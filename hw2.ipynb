{
 "cells": [
  {
   "cell_type": "code",
   "execution_count": 1,
   "metadata": {},
   "outputs": [],
   "source": [
    "import os\n",
    "import pickle\n",
    "import numpy as np\n",
    "import cv2\n",
    "from scipy.spatial.distance import euclidean\n",
    "\n",
    "\n",
    "# Decide how to rank by similarity(distance)\n",
    "ASC = 'ascend'\n",
    "DESC = 'descend'\n",
    "\n",
    "# Folder of pre-trained feature files\n",
    "FEATURE_PATH = 'features'\n",
    "\n",
    "# Pre-trained Feature files\n",
    "COLOR_FEATURE_FILE = 'rch.p'\n",
    "TEXTURE_FEATURE_FILE = 'gabor.p'\n",
    "LOCAL_FEATURE_FILE = 'sift.p'\n",
    "\n",
    "# Method to compare histogram\n",
    "HISTCMP_METHODS = {\n",
    "\t'Correlation': (cv2.HISTCMP_CORREL, DESC),\n",
    "\t'Chi-Squared': (cv2.HISTCMP_CHISQR, ASC),\n",
    "\t'Intersection': (cv2.HISTCMP_INTERSECT, DESC),\n",
    "\t'Hellinger': (cv2.HISTCMP_BHATTACHARYYA, ASC),\n",
    "}\n"
   ]
  },
  {
   "cell_type": "code",
   "execution_count": 2,
   "metadata": {},
   "outputs": [],
   "source": [
    "def image_extract(feature_file, similarity_func, orderby):\n",
    "    # feature_file: File of pre-trained feature\n",
    "    # similarity_func: Function to calculate similarity(distance)\n",
    "    # orderby: Decide how to rank(ASC or DESC)\n",
    "\n",
    "    # load features from feature file\n",
    "    with open(os.path.join(FEATURE_PATH, feature_file), 'rb') as fp:\n",
    "        features = pickle.load(fp)\n",
    "        \n",
    "    # leave-one-out image extracting\n",
    "    # map_across_dataset: Average of MAP of all categories\n",
    "    # map_rank: Rank of Category by MAP per category\n",
    "    map_across_dataset, map_rank = leave_one_out(features, similarity_func, orderby)\n",
    "\n",
    "    return (map_across_dataset, map_rank[0], map_rank[1], map_rank[-1], map_rank[-2])\n"
   ]
  },
  {
   "cell_type": "code",
   "execution_count": 3,
   "metadata": {},
   "outputs": [],
   "source": [
    "def leave_one_out(features, similarity_func, orderby):\n",
    "    map_per_category = dict()\n",
    "    map_across_dataset = 0\n",
    "\n",
    "    # calculate AP for each query image\n",
    "    # calculate MAP for each category\n",
    "    for category in features.keys():\n",
    "        map_per_category[category] = 0\n",
    "        for index in features[category].keys():\n",
    "            ap = get_ap(category, index, features, similarity_func, orderby)\n",
    "            map_per_category[category] += ap\n",
    "        map_per_category[category] = map_per_category[category] / len(features[category])\n",
    "        map_across_dataset += map_per_category[category]\n",
    "\n",
    "    # calculate average of MAP of all categories\n",
    "    map_across_dataset = map_across_dataset / len(features)\n",
    "    \n",
    "    # rank category by MAP per category\n",
    "    map_rank = sorted([(v, k) for (k, v) in map_per_category.items()], reverse=True)\n",
    "\n",
    "    return map_across_dataset, map_rank\n"
   ]
  },
  {
   "cell_type": "code",
   "execution_count": 4,
   "metadata": {},
   "outputs": [],
   "source": [
    "def get_ap(target_category, target_index, features, similarity_func, orderby):\n",
    "    # target_category: category of query image\n",
    "    # target_index: index of query image\n",
    "\n",
    "    dist_rank = []\n",
    "    result_rank = []\n",
    "    query = features[target_category][target_index]\n",
    "    \n",
    "    # use similarity_func to calculate similarity(distance) between query image and other images\n",
    "    for category in features.keys():\n",
    "        for index in features[category].keys():\n",
    "            if category == target_category and index == target_index:\n",
    "                continue\n",
    "            dist = similarity_func(query, features[category][index])\n",
    "\n",
    "            # insert category and index of image into rank list in the ascend order of similarity(distance)\n",
    "            insert_index = len(dist_rank)\n",
    "            for i, d in enumerate(dist_rank):\n",
    "                if dist <= d:\n",
    "                    insert_index = i\n",
    "                    break\n",
    "\n",
    "            dist_rank.insert(insert_index, dist)\n",
    "            result_rank.insert(insert_index, (category, index))\n",
    "\n",
    "    # if order by descend, reverse the rank list\n",
    "    if orderby == DESC:\n",
    "        dist_rank.reverse()\n",
    "        result_rank.reverse()\n",
    "\n",
    "    # calculate AP of the query image from rank list\n",
    "    ap = rank2ap(result_rank, target_category)\n",
    "\n",
    "    return ap\n"
   ]
  },
  {
   "cell_type": "code",
   "execution_count": 5,
   "metadata": {},
   "outputs": [],
   "source": [
    "def rank2ap(result_rank, target_category):\n",
    "    retrieve_num = 0\n",
    "    retrieve_precision = []\n",
    "    for rank, (category, index) in enumerate(result_rank):\n",
    "        if category == target_category:\n",
    "            retrieve_num += 1\n",
    "            retrieve_precision.append(retrieve_num / (rank + 1))\n",
    "\n",
    "    return np.mean(retrieve_precision)\n"
   ]
  },
  {
   "cell_type": "code",
   "execution_count": 6,
   "metadata": {
    "code_folding": []
   },
   "outputs": [],
   "source": [
    "# COLOR FEATURES:\n",
    "feature_file = COLOR_FEATURE_FILE\n",
    "method, orderby = HISTCMP_METHODS['Intersection']\n",
    "similarity_func = lambda query, feature: cv2.compareHist(query, feature, method)\n",
    "\n",
    "color_result = image_extract(feature_file, similarity_func, orderby)\n",
    "# color_result: map, best_first, best_second, worst_first, worst_second\n"
   ]
  },
  {
   "cell_type": "code",
   "execution_count": 7,
   "metadata": {},
   "outputs": [],
   "source": [
    "# TEXTURE FEATURES:\n",
    "feature_file = TEXTURE_FEATURE_FILE\n",
    "similarity_func = lambda query, feature: euclidean(query, feature)\n",
    "\n",
    "\n",
    "texture_result = image_extract(feature_file, similarity_func, ASC)\n",
    "# texture_result: map, best_first, best_second, worst_first, worst_second"
   ]
  },
  {
   "cell_type": "code",
   "execution_count": 8,
   "metadata": {},
   "outputs": [],
   "source": [
    "# LOCAL FEATURES:\n",
    "feature_file = LOCAL_FEATURE_FILE\n",
    "method, orderby = HISTCMP_METHODS['Intersection']\n",
    "similarity_func = lambda query, feature: cv2.compareHist(query, feature, method)\n",
    "\n",
    "local_result = image_extract(feature_file, similarity_func, orderby)\n",
    "# local)result: map, best_first, best_second, worst_first, worst_second"
   ]
  },
  {
   "cell_type": "markdown",
   "metadata": {
    "variables": {
     "color_result[0]": "0.28579385906818777",
     "color_result[1][0]": "0.8001463388866288",
     "color_result[1][1]": "korean_snack",
     "color_result[2][0]": "0.671848879780003",
     "color_result[2][1]": "gge_snack",
     "color_result[3][0]": "0.040378277968985535",
     "color_result[3][1]": "nba_jersey",
     "color_result[4][0]": "0.06913413456994186",
     "color_result[4][1]": "trousers",
     "local_result[0]": "0.23245581178089084",
     "local_result[1][0]": "0.841810676762768",
     "local_result[1][1]": "gge_snack",
     "local_result[2][0]": "0.7540621597734175",
     "local_result[2][1]": "korean_snack",
     "local_result[3][0]": "0.04793291641413365",
     "local_result[3][1]": "glasses",
     "local_result[4][0]": "0.056020707069666664",
     "local_result[4][1]": "trousers",
     "texture_result[0]": "0.11893632892835392",
     "texture_result[1][0]": "0.40541201077688716",
     "texture_result[1][1]": "garment",
     "texture_result[2][0]": "0.3159691054786208",
     "texture_result[2][1]": "gge_snack",
     "texture_result[3][0]": "0.04193638423741469",
     "texture_result[3][1]": "nba_jersey",
     "texture_result[4][0]": "0.047818794517101776",
     "texture_result[4][1]": "clock"
    }
   },
   "source": [
    "| Methods v.s. Categories | MAP | Best Two Categories | Worst Two Categories |\n",
    "| :---: | :---: | :---: | :---: |\n",
    "| Color<br>(Regional Color Histogram) | {{color_result[0]}} | 1. {{color_result[1][1]}}: {{color_result[1][0]}}<br> 2. {{color_result[2][1]}}: {{color_result[2][0]}} | 1. {{color_result[3][1]}}: {{color_result[3][0]}}<br>2. {{color_result[4][1]}}: {{color_result[4][0]}} |\n",
    "| Texture<br>(Gabor Filter) | {{texture_result[0]}} | 1. {{texture_result[1][1]}}: {{texture_result[1][0]}}<br> 2. {{texture_result[2][1]}}: {{texture_result[2][0]}} | 1. {{texture_result[3][1]}}: {{texture_result[3][0]}}<br>2. {{texture_result[4][1]}}: {{texture_result[4][0]}} |\n",
    "| Local<br>(DOG+SIFT+KMeans) | {{local_result[0]}} | 1. {{local_result[1][1]}}: {{local_result[1][0]}}<br> 2. {{local_result[2][1]}}: {{local_result[2][0]}} | 1. {{local_result[3][1]}}: {{local_result[3][0]}}<br>2. {{local_result[4][1]}}: {{local_result[4][0]}} |"
   ]
  }
 ],
 "metadata": {
  "kernelspec": {
   "display_name": "env",
   "language": "python",
   "name": "env"
  },
  "language_info": {
   "codemirror_mode": {
    "name": "ipython",
    "version": 3
   },
   "file_extension": ".py",
   "mimetype": "text/x-python",
   "name": "python",
   "nbconvert_exporter": "python",
   "pygments_lexer": "ipython3",
   "version": "3.6.7+"
  }
 },
 "nbformat": 4,
 "nbformat_minor": 2
}
